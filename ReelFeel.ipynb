{
 "cells": [
  {
   "cell_type": "markdown",
   "id": "2f8e2015-9b7f-410c-bf75-d30e61dcbb79",
   "metadata": {},
   "source": [
    "# **ReelFeel - IMDB Reviews Sentiment Classification Model with Natural Language Processing - using Recurrent Neural Networks**\n",
    "\n",
    "---\n",
    "\n",
    "**Alam Rincon - [GitHub: MrRincon](https://github.com/MrRincon)**\n",
    "\n",
    "**Petar Atanasov - [GitHub: petar-Atanasov](https://github.com/petar-Atanasov)**\n",
    "\n",
    "**Teon Morgan - [GitHub: Mi1kDev](https://github.com/Mi1kDev)**"
   ]
  },
  {
   "cell_type": "markdown",
   "id": "0ef32349-f6c6-48a0-b099-ccb1d637424c",
   "metadata": {},
   "source": [
    "---\n",
    "\n",
    "**Lakshmipathi N. (2019) ‘IMDB Dataset of 50K Movie Reviews’. Available at: https://www.kaggle.com/datasets/lakshmi25npathi/imdb-dataset-of-50k-movie-reviews (Accessed: 14 April 2025).**"
   ]
  },
  {
   "cell_type": "markdown",
   "id": "da4a418c-98d6-46d5-b223-7b03b6dc0221",
   "metadata": {},
   "source": [
    "# **Preinstalling Libraries**"
   ]
  },
  {
   "cell_type": "markdown",
   "id": "b4d0ccd1-7429-446a-8994-c27798193475",
   "metadata": {},
   "source": [
    "Run once and restart the kernel. Do not run again, and continue."
   ]
  },
  {
   "cell_type": "markdown",
   "id": "32d018d4-169b-46b8-9791-f6a6238b622c",
   "metadata": {},
   "source": [
    "# **Preprocessing Data**"
   ]
  },
  {
   "cell_type": "markdown",
   "id": "696fe881-aabf-4cb4-8101-3df1bfbb203a",
   "metadata": {},
   "source": [
    "# **Deep Learning Model Implementation**"
   ]
  },
  {
   "cell_type": "markdown",
   "id": "d6566e15-c7bc-4883-ab97-d0aa48e75bc9",
   "metadata": {},
   "source": [
    "## **Recurrent Neural Network (RNN)**"
   ]
  },
  {
   "cell_type": "markdown",
   "id": "df3872d6-fe52-4a48-98a8-818399a744d0",
   "metadata": {},
   "source": [
    "## **Model Training**"
   ]
  },
  {
   "cell_type": "markdown",
   "id": "7a9432db-85af-4529-9941-43e26c5546a4",
   "metadata": {},
   "source": [
    "# **Evaluation and Insights**"
   ]
  }
 ],
 "metadata": {
  "kernelspec": {
   "display_name": "Python 3 (ipykernel)",
   "language": "python",
   "name": "python3"
  },
  "language_info": {
   "codemirror_mode": {
    "name": "ipython",
    "version": 3
   },
   "file_extension": ".py",
   "mimetype": "text/x-python",
   "name": "python",
   "nbconvert_exporter": "python",
   "pygments_lexer": "ipython3",
   "version": "3.11.7"
  }
 },
 "nbformat": 4,
 "nbformat_minor": 5
}
